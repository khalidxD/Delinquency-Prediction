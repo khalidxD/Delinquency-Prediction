{
 "cells": [
  {
   "cell_type": "code",
   "execution_count": null,
   "id": "3cc6b8dc",
   "metadata": {},
   "outputs": [
    {
     "ename": "",
     "evalue": "",
     "output_type": "error",
     "traceback": [
      "\u001b[1;31mJupyter cannot be started. Error attempting to locate Jupyter: Running cells requires jupyter and notebook package.\n",
      "\u001b[1;31mRun the following command to install 'jupyter and notebook' into the Python environment. \n",
      "\u001b[1;31mCommand: 'python -m pip install jupyter notebook -U\n",
      "\u001b[1;31mor\n",
      "\u001b[1;31mconda install jupyter notebook -U'\n",
      "\u001b[1;31mClick <a href='https://aka.ms/installJupyterForVSCode'>here</a> for more info."
     ]
    }
   ],
   "source": [
    "# -*- coding: utf-8 -*-\n",
    "\n",
    "import numpy as np\n",
    "import pickle\n",
    "from flask import Flask, request, render_template\n",
    "\n",
    "# Load ML model\n",
    "model = pickle.load(open('/Users/immortal/Desktop/Technocolabs-Softwares-Mini-Project/Team A/model_1.pkl', 'rb')) \n",
    "\n",
    "# Create application\n",
    "app = Flask(__name__)\n",
    "\n",
    "# Bind home function to URL\n",
    "def home():\n",
    "    return render_template('/Users/immortal/Desktop/Technocolabs-Softwares-Mini-Project/Team A/templates/Mortgage.html')\n",
    " \n",
    "# Bind predict function to URL\n",
    "@app.route('/predict', methods =['POST'])\n",
    "def predict():\n",
    "    \n",
    "    # Put all form entries values in a list \n",
    "    features = [float(i) for i in request.form.values()]\n",
    "    \n",
    "    # Convert features to array\n",
    "    array_features = [np.array(features)]\n",
    "    # Predict features\n",
    "    prediction =model.predict(array_features)\n",
    "    \n",
    "    output = prediction\n",
    "    \n",
    "    # Check the output values and retrive the result with html tag based on the value\n",
    "    if output == 1:\n",
    "        return render_template('/Users/immortal/Desktop/Technocolabs-Softwares-Mini-Project/Team A/templates/Mortgage.html/Mortgage.html', \n",
    "                               result = 'Ever Deliquent!')\n",
    "    else:\n",
    "        return render_template('/Users/immortal/Desktop/Technocolabs-Softwares-Mini-Project/Team A/templates/Mortgage.html/Mortgage.html', \n",
    "                               result = 'Not ever Delinquent!')\n",
    "\n",
    "if __name__ == '__main__':\n",
    "#Run the application\n",
    "    app.run(debug=True)\n",
    "    \n",
    "    "
   ]
  }
 ],
 "metadata": {
  "kernelspec": {
   "display_name": "Python 3 (ipykernel)",
   "language": "python",
   "name": "python3"
  },
  "language_info": {
   "codemirror_mode": {
    "name": "ipython",
    "version": 3
   },
   "file_extension": ".py",
   "mimetype": "text/x-python",
   "name": "python",
   "nbconvert_exporter": "python",
   "pygments_lexer": "ipython3",
   "version": "3.9.13"
  }
 },
 "nbformat": 4,
 "nbformat_minor": 5
}
